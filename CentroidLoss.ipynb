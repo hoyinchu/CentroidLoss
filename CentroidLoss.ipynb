{
 "cells": [
  {
   "cell_type": "markdown",
   "metadata": {},
   "source": [
    "# Set ups"
   ]
  },
  {
   "cell_type": "code",
   "execution_count": 1,
   "metadata": {},
   "outputs": [],
   "source": [
    "# Reloads library if changes are made to imported module, safe to comment out\n",
    "%load_ext autoreload\n",
    "%autoreload 2"
   ]
  },
  {
   "cell_type": "markdown",
   "metadata": {},
   "source": [
    "Loading appropriate libraries"
   ]
  },
  {
   "cell_type": "code",
   "execution_count": 2,
   "metadata": {},
   "outputs": [],
   "source": [
    "import torch\n",
    "import torch.optim as optim"
   ]
  },
  {
   "cell_type": "markdown",
   "metadata": {},
   "source": [
    "Uncomment to use Weights and Biases to track training progress"
   ]
  },
  {
   "cell_type": "code",
   "execution_count": 3,
   "metadata": {},
   "outputs": [],
   "source": [
    "# import wandb\n",
    "# wandb.init(project=\"centroid_loss\",name=\"centroid_set_1\",entity='hoyinchu')"
   ]
  },
  {
   "cell_type": "markdown",
   "metadata": {},
   "source": [
    "Define settings for training the model and other hyperparameters"
   ]
  },
  {
   "cell_type": "code",
   "execution_count": 4,
   "metadata": {},
   "outputs": [],
   "source": [
    "# Number of classes in the dataset\n",
    "classes = ('plane', 'car', 'bird', 'cat',\n",
    "           'deer', 'dog', 'frog', 'horse', 'ship', 'truck',\n",
    "           'Animals','Domesticated','Vehicles','Ground')\n",
    "num_classes = len(classes)\n",
    "\n",
    "RANDOM_STATE = 0 # for consistent sampling when evaluating\n",
    "LEARNING_RATE = 0.001\n",
    "batch_size = 8\n",
    "num_epochs = 30\n",
    "\n",
    "# Flag for feature extracting. When False, we finetune the whole model,\n",
    "#   when True we only update the reshaped layer params\n",
    "feature_extract = True"
   ]
  },
  {
   "cell_type": "markdown",
   "metadata": {},
   "source": [
    "Detect if gpu is available"
   ]
  },
  {
   "cell_type": "code",
   "execution_count": 5,
   "metadata": {},
   "outputs": [
    {
     "name": "stdout",
     "output_type": "stream",
     "text": [
      "Using device: cuda:0\n"
     ]
    }
   ],
   "source": [
    "device = torch.device(\"cuda:0\" if torch.cuda.is_available() else \"cpu\")\n",
    "print(f\"Using device: {device}\")"
   ]
  },
  {
   "cell_type": "markdown",
   "metadata": {},
   "source": [
    "Load Modified CIFAR-10 Data"
   ]
  },
  {
   "cell_type": "code",
   "execution_count": 6,
   "metadata": {},
   "outputs": [
    {
     "name": "stdout",
     "output_type": "stream",
     "text": [
      "Checking if the original CIFAR10 training set is downloaded...\n",
      "Files already downloaded and verified\n",
      "Checking if the original CIFAR10 test set is downloaded...\n",
      "Files already downloaded and verified\n",
      "Applying transformation to both training and testing set\n",
      "Dataloader dictionary complete\n"
     ]
    }
   ],
   "source": [
    "import data\n",
    "dataloaders_dict = data.get_modified_cifar10_data_loader_dict(batch_size)"
   ]
  },
  {
   "cell_type": "markdown",
   "metadata": {},
   "source": [
    "Initialize the model architecture"
   ]
  },
  {
   "cell_type": "code",
   "execution_count": 7,
   "metadata": {},
   "outputs": [],
   "source": [
    "from models import initialize_model, CentroidNet\n",
    "extractor_model = initialize_model(\"resnet\", num_classes, feature_extract, use_pretrained=True)\n",
    "centroid_net = CentroidNet(extractor_model)"
   ]
  },
  {
   "cell_type": "markdown",
   "metadata": {},
   "source": [
    "Uncomment to set up Weights and Biases"
   ]
  },
  {
   "cell_type": "code",
   "execution_count": 8,
   "metadata": {},
   "outputs": [],
   "source": [
    "# config = wandb.config\n",
    "# config.learning_rate = LEARNING_RATE\n",
    "# wandb.watch(centroid_net) # only call this once"
   ]
  },
  {
   "cell_type": "markdown",
   "metadata": {},
   "source": [
    "Define an optimizer for the model"
   ]
  },
  {
   "cell_type": "code",
   "execution_count": 9,
   "metadata": {},
   "outputs": [
    {
     "name": "stdout",
     "output_type": "stream",
     "text": [
      "Params to learn:\n",
      "\t extractor_net.fc.weight\n",
      "\t extractor_net.fc.bias\n",
      "\t fc_1.weight\n",
      "\t fc_1.bias\n",
      "\t fc_2.weight\n",
      "\t fc_2.bias\n"
     ]
    }
   ],
   "source": [
    "from models import get_all_params_to_update\n",
    "centroid_net_params_to_update = get_all_params_to_update(centroid_net,feature_extract)\n",
    "proposed_optimizer = optim.Adam(centroid_net_params_to_update, lr=LEARNING_RATE)"
   ]
  },
  {
   "cell_type": "markdown",
   "metadata": {},
   "source": [
    "# Defining Centroids"
   ]
  },
  {
   "cell_type": "markdown",
   "metadata": {},
   "source": [
    "## Centroid Set 1"
   ]
  },
  {
   "cell_type": "markdown",
   "metadata": {},
   "source": [
    "Define the centroids and radii"
   ]
  },
  {
   "cell_type": "code",
   "execution_count": 10,
   "metadata": {},
   "outputs": [],
   "source": [
    "# Currently we hard code the centroids and radii.\n",
    "# A function that automatically converts tree to centroids and radii will be provided in the future.\n",
    "\n",
    "# This hardcoded version has the centorid of all centroid aligned on a line\n",
    "# and all the leaf classes sharing the same radii\n",
    "\n",
    "centroids_set_1 = torch.tensor([[40.,  0.], # Centroid for airplane\n",
    "                          [8., 0.], # Centroid for automobile\n",
    "                          [-56., 0.], # Centroid for bird\n",
    "                          [-88.,  0.], # Centroid for cat\n",
    "                          [-40., 0.], # Centroid for deer\n",
    "                          [-72., 0.], # Centroid for dog\n",
    "                          [-24.,  0.], # Centroid for frog\n",
    "                          [-8., 0.], # Centroid for horse\n",
    "                          [56., 0.], # Centroid for ship\n",
    "                          [24.,  0.], # Centroid for truck\n",
    "                          [-48., 0.], # Centroid for Animals\n",
    "                          [-80., 0.], # Centroid for Domesticated\n",
    "                          [32.,  0.], # Centroid for Vehicles\n",
    "                          [16., 0.], # Centroid for Ground\n",
    "                         ])\n",
    "\n",
    "radii_set_1 = torch.tensor([8,8,8,8,8,8,8,8,8,8,48,16,32,16])"
   ]
  },
  {
   "cell_type": "markdown",
   "metadata": {},
   "source": [
    "Visualize the centroids"
   ]
  },
  {
   "cell_type": "code",
   "execution_count": 11,
   "metadata": {},
   "outputs": [],
   "source": [
    "from util import paint_centroids\n",
    "# Defining the color for each class\n",
    "centroids_colors = [\n",
    "                   \"cornflowerblue\", # Color for airplane\n",
    "                   \"purple\", # Color for automobile\n",
    "                   \"red\", # Color for bird\n",
    "                   \"orange\", # Color for cat\n",
    "                   \"teal\", # Color for deer\n",
    "                   \"tan\", # Color for dog\n",
    "                   \"olive\", # Color for frog\n",
    "                   \"gold\", # Color for horse\n",
    "                   \"blue\", # Color for ship\n",
    "                   \"brown\", # Color for truck\n",
    "                   \"green\", # Color for Animals\n",
    "                   \"lime\", # Color for Domesticated\n",
    "                   \"gray\", # Color for Vehicles\n",
    "                   \"black\"  # Color for Ground\n",
    "                  ]"
   ]
  },
  {
   "cell_type": "code",
   "execution_count": 12,
   "metadata": {},
   "outputs": [
    {
     "data": {
      "image/png": "[encoded data removed]",
      "text/plain": [
       "<Figure size 432x288 with 1 Axes>"
      ]
     },
     "metadata": {
      "needs_background": "light"
     },
     "output_type": "display_data"
    }
   ],
   "source": [
    "# draws the output space\n",
    "paint_centroids(points=[],\n",
    "                centroids=centroids_set_1,\n",
    "                radii=radii_set_1,\n",
    "                point_colors=None,\n",
    "                centroid_colors=centroids_colors)"
   ]
  },
  {
   "cell_type": "markdown",
   "metadata": {},
   "source": [
    "Uncomment this to train the model from scratch using these centroids as the output space"
   ]
  },
  {
   "cell_type": "code",
   "execution_count": 13,
   "metadata": {},
   "outputs": [],
   "source": [
    "# from train_util import train_model\n",
    "\n",
    "# centroid_net, hist = train_model(model=centroid_net,\n",
    "#                                  dataloaders=dataloaders_dict,\n",
    "#                                  optimizer=proposed_optimizer,\n",
    "#                                  num_epochs=num_epochs,\n",
    "#                                  loss_func=\"centroid\",\n",
    "#                                  centroids=centroids_set_1,\n",
    "#                                  radii=radii_set_1,\n",
    "#                                  device=device,\n",
    "#                                  wandb=wandb,\n",
    "#                                  save_path=\"model/epoch_30_centroid_net_set_1_04_28_21\"\n",
    "#                                 )"
   ]
  },
  {
   "cell_type": "markdown",
   "metadata": {},
   "source": [
    "Alternatively, load a pre-trained model (trained for 30 epochs)"
   ]
  },
  {
   "cell_type": "code",
   "execution_count": 30,
   "metadata": {
    "collapsed": true
   },
   "outputs": [
    {
     "data": {
      "text/plain": [
       "CentroidNet(\n",
       "  (extractor_net): ResNet(\n",
       "    (conv1): Conv2d(3, 64, kernel_size=(7, 7), stride=(2, 2), padding=(3, 3), bias=False)\n",
       "    (bn1): BatchNorm2d(64, eps=1e-05, momentum=0.1, affine=True, track_running_stats=True)\n",
       "    (relu): ReLU(inplace=True)\n",
       "    (maxpool): MaxPool2d(kernel_size=3, stride=2, padding=1, dilation=1, ceil_mode=False)\n",
       "    (layer1): Sequential(\n",
       "      (0): BasicBlock(\n",
       "        (conv1): Conv2d(64, 64, kernel_size=(3, 3), stride=(1, 1), padding=(1, 1), bias=False)\n",
       "        (bn1): BatchNorm2d(64, eps=1e-05, momentum=0.1, affine=True, track_running_stats=True)\n",
       "        (relu): ReLU(inplace=True)\n",
       "        (conv2): Conv2d(64, 64, kernel_size=(3, 3), stride=(1, 1), padding=(1, 1), bias=False)\n",
       "        (bn2): BatchNorm2d(64, eps=1e-05, momentum=0.1, affine=True, track_running_stats=True)\n",
       "      )\n",
       "      (1): BasicBlock(\n",
       "        (conv1): Conv2d(64, 64, kernel_size=(3, 3), stride=(1, 1), padding=(1, 1), bias=False)\n",
       "        (bn1): BatchNorm2d(64, eps=1e-05, momentum=0.1, affine=True, track_running_stats=True)\n",
       "        (relu): ReLU(inplace=True)\n",
       "        (conv2): Conv2d(64, 64, kernel_size=(3, 3), stride=(1, 1), padding=(1, 1), bias=False)\n",
       "        (bn2): BatchNorm2d(64, eps=1e-05, momentum=0.1, affine=True, track_running_stats=True)\n",
       "      )\n",
       "    )\n",
       "    (layer2): Sequential(\n",
       "      (0): BasicBlock(\n",
       "        (conv1): Conv2d(64, 128, kernel_size=(3, 3), stride=(2, 2), padding=(1, 1), bias=False)\n",
       "        (bn1): BatchNorm2d(128, eps=1e-05, momentum=0.1, affine=True, track_running_stats=True)\n",
       "        (relu): ReLU(inplace=True)\n",
       "        (conv2): Conv2d(128, 128, kernel_size=(3, 3), stride=(1, 1), padding=(1, 1), bias=False)\n",
       "        (bn2): BatchNorm2d(128, eps=1e-05, momentum=0.1, affine=True, track_running_stats=True)\n",
       "        (downsample): Sequential(\n",
       "          (0): Conv2d(64, 128, kernel_size=(1, 1), stride=(2, 2), bias=False)\n",
       "          (1): BatchNorm2d(128, eps=1e-05, momentum=0.1, affine=True, track_running_stats=True)\n",
       "        )\n",
       "      )\n",
       "      (1): BasicBlock(\n",
       "        (conv1): Conv2d(128, 128, kernel_size=(3, 3), stride=(1, 1), padding=(1, 1), bias=False)\n",
       "        (bn1): BatchNorm2d(128, eps=1e-05, momentum=0.1, affine=True, track_running_stats=True)\n",
       "        (relu): ReLU(inplace=True)\n",
       "        (conv2): Conv2d(128, 128, kernel_size=(3, 3), stride=(1, 1), padding=(1, 1), bias=False)\n",
       "        (bn2): BatchNorm2d(128, eps=1e-05, momentum=0.1, affine=True, track_running_stats=True)\n",
       "      )\n",
       "    )\n",
       "    (layer3): Sequential(\n",
       "      (0): BasicBlock(\n",
       "        (conv1): Conv2d(128, 256, kernel_size=(3, 3), stride=(2, 2), padding=(1, 1), bias=False)\n",
       "        (bn1): BatchNorm2d(256, eps=1e-05, momentum=0.1, affine=True, track_running_stats=True)\n",
       "        (relu): ReLU(inplace=True)\n",
       "        (conv2): Conv2d(256, 256, kernel_size=(3, 3), stride=(1, 1), padding=(1, 1), bias=False)\n",
       "        (bn2): BatchNorm2d(256, eps=1e-05, momentum=0.1, affine=True, track_running_stats=True)\n",
       "        (downsample): Sequential(\n",
       "          (0): Conv2d(128, 256, kernel_size=(1, 1), stride=(2, 2), bias=False)\n",
       "          (1): BatchNorm2d(256, eps=1e-05, momentum=0.1, affine=True, track_running_stats=True)\n",
       "        )\n",
       "      )\n",
       "      (1): BasicBlock(\n",
       "        (conv1): Conv2d(256, 256, kernel_size=(3, 3), stride=(1, 1), padding=(1, 1), bias=False)\n",
       "        (bn1): BatchNorm2d(256, eps=1e-05, momentum=0.1, affine=True, track_running_stats=True)\n",
       "        (relu): ReLU(inplace=True)\n",
       "        (conv2): Conv2d(256, 256, kernel_size=(3, 3), stride=(1, 1), padding=(1, 1), bias=False)\n",
       "        (bn2): BatchNorm2d(256, eps=1e-05, momentum=0.1, affine=True, track_running_stats=True)\n",
       "      )\n",
       "    )\n",
       "    (layer4): Sequential(\n",
       "      (0): BasicBlock(\n",
       "        (conv1): Conv2d(256, 512, kernel_size=(3, 3), stride=(2, 2), padding=(1, 1), bias=False)\n",
       "        (bn1): BatchNorm2d(512, eps=1e-05, momentum=0.1, affine=True, track_running_stats=True)\n",
       "        (relu): ReLU(inplace=True)\n",
       "        (conv2): Conv2d(512, 512, kernel_size=(3, 3), stride=(1, 1), padding=(1, 1), bias=False)\n",
       "        (bn2): BatchNorm2d(512, eps=1e-05, momentum=0.1, affine=True, track_running_stats=True)\n",
       "        (downsample): Sequential(\n",
       "          (0): Conv2d(256, 512, kernel_size=(1, 1), stride=(2, 2), bias=False)\n",
       "          (1): BatchNorm2d(512, eps=1e-05, momentum=0.1, affine=True, track_running_stats=True)\n",
       "        )\n",
       "      )\n",
       "      (1): BasicBlock(\n",
       "        (conv1): Conv2d(512, 512, kernel_size=(3, 3), stride=(1, 1), padding=(1, 1), bias=False)\n",
       "        (bn1): BatchNorm2d(512, eps=1e-05, momentum=0.1, affine=True, track_running_stats=True)\n",
       "        (relu): ReLU(inplace=True)\n",
       "        (conv2): Conv2d(512, 512, kernel_size=(3, 3), stride=(1, 1), padding=(1, 1), bias=False)\n",
       "        (bn2): BatchNorm2d(512, eps=1e-05, momentum=0.1, affine=True, track_running_stats=True)\n",
       "      )\n",
       "    )\n",
       "    (avgpool): AdaptiveAvgPool2d(output_size=(1, 1))\n",
       "    (fc): Linear(in_features=512, out_features=64, bias=True)\n",
       "  )\n",
       "  (fc_1): Linear(in_features=64, out_features=8, bias=True)\n",
       "  (fc_2): Linear(in_features=8, out_features=2, bias=True)\n",
       ")"
      ]
     },
     "execution_count": 30,
     "metadata": {},
     "output_type": "execute_result"
    }
   ],
   "source": [
    "centroid_net.load_state_dict(torch.load('model/epoch_30_centroid_net_set_1_04_14_21'))\n",
    "centroid_net.to(device)"
   ]
  },
  {
   "cell_type": "markdown",
   "metadata": {},
   "source": [
    "Sample 20 datapoints (from the same class) from the test set. Feel free play around with the sampled amount and the class to draw samples from. (Change the number to total_samples or sample_class)"
   ]
  },
  {
   "cell_type": "code",
   "execution_count": 49,
   "metadata": {},
   "outputs": [],
   "source": [
    "from data_util import sample_from_modified_cifar10_dataset,make_2d_pred\n",
    "# Grab samples of automobile\n",
    "test_samples = sample_from_modified_cifar10_dataset(dataset=dataloaders_dict['val'].dataset,\n",
    "                                                    total_samples=20,\n",
    "                                                    sample_class=1,\n",
    "                                                    random_state=RANDOM_STATE)"
   ]
  },
  {
   "cell_type": "code",
   "execution_count": 50,
   "metadata": {},
   "outputs": [
    {
     "data": {
      "image/png": "[encoded data removed]",
      "text/plain": [
       "<Figure size 432x288 with 1 Axes>"
      ]
     },
     "metadata": {
      "needs_background": "light"
     },
     "output_type": "display_data"
    }
   ],
   "source": [
    "# Project them onto 2d and see where they land\n",
    "test_2d_preds_set_1 = make_2d_pred(centroid_net,test_samples,device)\n",
    "# visualize\n",
    "paint_centroids(points=test_2d_preds_set_1,\n",
    "                centroids=centroids_set_1,\n",
    "                radii=radii_set_1,\n",
    "                point_colors=None,\n",
    "                centroid_colors=centroids_colors)"
   ]
  },
  {
   "cell_type": "markdown",
   "metadata": {},
   "source": [
    "Evaluate the accuracy of the model (Takes about 1-2 minutes to evaluate)"
   ]
  },
  {
   "cell_type": "code",
   "execution_count": 17,
   "metadata": {},
   "outputs": [
    {
     "name": "stderr",
     "output_type": "stream",
     "text": [
      "C:\\Users\\hoyin\\AppData\\Local\\Programs\\Python\\Python37\\lib\\site-packages\\sklearn\\metrics\\_classification.py:1245: UndefinedMetricWarning: Precision is ill-defined and being set to 0.0 in samples with no predicted labels. Use `zero_division` parameter to control this behavior.\n",
      "  _warn_prf(average, modifier, msg_start, len(result))\n"
     ]
    }
   ],
   "source": [
    "from train_util import eval_model\n",
    "test_loss_set_1,test_acc_set_1,test_f1_set_1,test_prc_set_1,test_rec_set_1 = eval_model(model=centroid_net,\n",
    "                                dataloader=dataloaders_dict['val'],\n",
    "                                loss_func=\"centroid\",\n",
    "                                centroids=centroids_set_1,\n",
    "                                radii=radii_set_1,\n",
    "                                device=device,\n",
    "                                report_all=True\n",
    "                               )"
   ]
  },
  {
   "cell_type": "code",
   "execution_count": 18,
   "metadata": {},
   "outputs": [
    {
     "name": "stdout",
     "output_type": "stream",
     "text": [
      "test loss using centroid set 1 after 30 epochs: 14.709512452077865\n",
      "test accuracy using centroid set 1 after 30 epochs: 0.37870000000000004\n",
      "test f1 (averaged f1 from each class) using centroid set 1 after 30 epochs: 0.7083533333333334\n",
      "test precision (averaged precision from each class) using centroid set 1 after 30 epochs: 0.8106166666666667\n",
      "test recall (averaged recall from each class) using centroid set 1 after 30 epochs: 0.6601666666666666\n"
     ]
    }
   ],
   "source": [
    "print(f\"test loss using centroid set 1 after 30 epochs: {test_loss_set_1}\")\n",
    "print(f\"test accuracy using centroid set 1 after 30 epochs: {test_acc_set_1}\")\n",
    "print(f\"test f1 (averaged f1 from each class) using centroid set 1 after 30 epochs: {test_f1_set_1}\")\n",
    "print(f\"test precision (averaged precision from each class) using centroid set 1 after 30 epochs: {test_prc_set_1}\")\n",
    "print(f\"test recall (averaged recall from each class) using centroid set 1 after 30 epochs: {test_rec_set_1}\")"
   ]
  },
  {
   "cell_type": "markdown",
   "metadata": {},
   "source": [
    "## Centroid set 2"
   ]
  },
  {
   "cell_type": "markdown",
   "metadata": {},
   "source": [
    "To evaluate the impact of the structure of the output space we change the location of each centorid but keep the same raii for each centroid"
   ]
  },
  {
   "cell_type": "code",
   "execution_count": 19,
   "metadata": {},
   "outputs": [],
   "source": [
    "# Currently we hard code the centroids and radii.\n",
    "# A function that automatically converts tree to centroids and radii will be provided in the future.\n",
    "\n",
    "centroids_set_2 = torch.tensor([[16.,  -16.], # Centroid for airplane \n",
    "                          [24., 8.], # Centroid for automobile \n",
    "                          [-80., 0.], # Centroid for bird \n",
    "                          [-56.,  24.], # Centroid for cat \n",
    "                          [-72., -24.], # Centroid for deer \n",
    "                          [-40., 24.], # Centroid for dog \n",
    "                          [-32.,  -24.], # Centroid for frog \n",
    "                          [-16., 0.], # Centroid for horse \n",
    "                          [48., -16.], # Centroid for ship \n",
    "                          [40.,  8.], # Centroid for truck \n",
    "                          [-48., 0.], # Centroid for Animals\n",
    "                          [-48., 24.], # Centroid for Domesticated \n",
    "                          [32.,  0.], # Centroid for Vehicles \n",
    "                          [32., 8.], # Centroid for Ground \n",
    "                         ])\n",
    "\n",
    "radii_set_2 = torch.tensor([8,8,8,8,8,8,8,8,8,8,48,16,32,16])"
   ]
  },
  {
   "cell_type": "code",
   "execution_count": 20,
   "metadata": {},
   "outputs": [
    {
     "data": {
      "image/png": "[encoded data removed]",
      "text/plain": [
       "<Figure size 432x288 with 1 Axes>"
      ]
     },
     "metadata": {
      "needs_background": "light"
     },
     "output_type": "display_data"
    }
   ],
   "source": [
    "# draws the output space\n",
    "paint_centroids(points=[],\n",
    "                centroids=centroids_set_2,\n",
    "                radii=radii_set_2,\n",
    "                point_colors=None,\n",
    "                centroid_colors=centroids_colors)"
   ]
  },
  {
   "cell_type": "markdown",
   "metadata": {},
   "source": [
    "Uncomment this to train the model from scratch"
   ]
  },
  {
   "cell_type": "code",
   "execution_count": 21,
   "metadata": {},
   "outputs": [],
   "source": [
    "# from train_util import train_model\n",
    "\n",
    "# centroid_net, hist = train_model(model=centroid_net,\n",
    "#                                  dataloaders=dataloaders_dict,\n",
    "#                                  optimizer=proposed_optimizer,\n",
    "#                                  num_epochs=num_epochs,\n",
    "#                                  loss_func=\"centroid\",\n",
    "#                                  centroids=centroids_set_2,\n",
    "#                                  radii=radii_set_2,\n",
    "#                                  device=device,\n",
    "#                                  wandb=wandb,\n",
    "#                                  save_path=\"model/epoch_30_centroid_net_set_2_squared_loss_04_26_21\"\n",
    "#                                 )"
   ]
  },
  {
   "cell_type": "markdown",
   "metadata": {},
   "source": [
    "Alternatively, load a pretrained model"
   ]
  },
  {
   "cell_type": "code",
   "execution_count": 22,
   "metadata": {
    "collapsed": true
   },
   "outputs": [
    {
     "data": {
      "text/plain": [
       "CentroidNet(\n",
       "  (extractor_net): ResNet(\n",
       "    (conv1): Conv2d(3, 64, kernel_size=(7, 7), stride=(2, 2), padding=(3, 3), bias=False)\n",
       "    (bn1): BatchNorm2d(64, eps=1e-05, momentum=0.1, affine=True, track_running_stats=True)\n",
       "    (relu): ReLU(inplace=True)\n",
       "    (maxpool): MaxPool2d(kernel_size=3, stride=2, padding=1, dilation=1, ceil_mode=False)\n",
       "    (layer1): Sequential(\n",
       "      (0): BasicBlock(\n",
       "        (conv1): Conv2d(64, 64, kernel_size=(3, 3), stride=(1, 1), padding=(1, 1), bias=False)\n",
       "        (bn1): BatchNorm2d(64, eps=1e-05, momentum=0.1, affine=True, track_running_stats=True)\n",
       "        (relu): ReLU(inplace=True)\n",
       "        (conv2): Conv2d(64, 64, kernel_size=(3, 3), stride=(1, 1), padding=(1, 1), bias=False)\n",
       "        (bn2): BatchNorm2d(64, eps=1e-05, momentum=0.1, affine=True, track_running_stats=True)\n",
       "      )\n",
       "      (1): BasicBlock(\n",
       "        (conv1): Conv2d(64, 64, kernel_size=(3, 3), stride=(1, 1), padding=(1, 1), bias=False)\n",
       "        (bn1): BatchNorm2d(64, eps=1e-05, momentum=0.1, affine=True, track_running_stats=True)\n",
       "        (relu): ReLU(inplace=True)\n",
       "        (conv2): Conv2d(64, 64, kernel_size=(3, 3), stride=(1, 1), padding=(1, 1), bias=False)\n",
       "        (bn2): BatchNorm2d(64, eps=1e-05, momentum=0.1, affine=True, track_running_stats=True)\n",
       "      )\n",
       "    )\n",
       "    (layer2): Sequential(\n",
       "      (0): BasicBlock(\n",
       "        (conv1): Conv2d(64, 128, kernel_size=(3, 3), stride=(2, 2), padding=(1, 1), bias=False)\n",
       "        (bn1): BatchNorm2d(128, eps=1e-05, momentum=0.1, affine=True, track_running_stats=True)\n",
       "        (relu): ReLU(inplace=True)\n",
       "        (conv2): Conv2d(128, 128, kernel_size=(3, 3), stride=(1, 1), padding=(1, 1), bias=False)\n",
       "        (bn2): BatchNorm2d(128, eps=1e-05, momentum=0.1, affine=True, track_running_stats=True)\n",
       "        (downsample): Sequential(\n",
       "          (0): Conv2d(64, 128, kernel_size=(1, 1), stride=(2, 2), bias=False)\n",
       "          (1): BatchNorm2d(128, eps=1e-05, momentum=0.1, affine=True, track_running_stats=True)\n",
       "        )\n",
       "      )\n",
       "      (1): BasicBlock(\n",
       "        (conv1): Conv2d(128, 128, kernel_size=(3, 3), stride=(1, 1), padding=(1, 1), bias=False)\n",
       "        (bn1): BatchNorm2d(128, eps=1e-05, momentum=0.1, affine=True, track_running_stats=True)\n",
       "        (relu): ReLU(inplace=True)\n",
       "        (conv2): Conv2d(128, 128, kernel_size=(3, 3), stride=(1, 1), padding=(1, 1), bias=False)\n",
       "        (bn2): BatchNorm2d(128, eps=1e-05, momentum=0.1, affine=True, track_running_stats=True)\n",
       "      )\n",
       "    )\n",
       "    (layer3): Sequential(\n",
       "      (0): BasicBlock(\n",
       "        (conv1): Conv2d(128, 256, kernel_size=(3, 3), stride=(2, 2), padding=(1, 1), bias=False)\n",
       "        (bn1): BatchNorm2d(256, eps=1e-05, momentum=0.1, affine=True, track_running_stats=True)\n",
       "        (relu): ReLU(inplace=True)\n",
       "        (conv2): Conv2d(256, 256, kernel_size=(3, 3), stride=(1, 1), padding=(1, 1), bias=False)\n",
       "        (bn2): BatchNorm2d(256, eps=1e-05, momentum=0.1, affine=True, track_running_stats=True)\n",
       "        (downsample): Sequential(\n",
       "          (0): Conv2d(128, 256, kernel_size=(1, 1), stride=(2, 2), bias=False)\n",
       "          (1): BatchNorm2d(256, eps=1e-05, momentum=0.1, affine=True, track_running_stats=True)\n",
       "        )\n",
       "      )\n",
       "      (1): BasicBlock(\n",
       "        (conv1): Conv2d(256, 256, kernel_size=(3, 3), stride=(1, 1), padding=(1, 1), bias=False)\n",
       "        (bn1): BatchNorm2d(256, eps=1e-05, momentum=0.1, affine=True, track_running_stats=True)\n",
       "        (relu): ReLU(inplace=True)\n",
       "        (conv2): Conv2d(256, 256, kernel_size=(3, 3), stride=(1, 1), padding=(1, 1), bias=False)\n",
       "        (bn2): BatchNorm2d(256, eps=1e-05, momentum=0.1, affine=True, track_running_stats=True)\n",
       "      )\n",
       "    )\n",
       "    (layer4): Sequential(\n",
       "      (0): BasicBlock(\n",
       "        (conv1): Conv2d(256, 512, kernel_size=(3, 3), stride=(2, 2), padding=(1, 1), bias=False)\n",
       "        (bn1): BatchNorm2d(512, eps=1e-05, momentum=0.1, affine=True, track_running_stats=True)\n",
       "        (relu): ReLU(inplace=True)\n",
       "        (conv2): Conv2d(512, 512, kernel_size=(3, 3), stride=(1, 1), padding=(1, 1), bias=False)\n",
       "        (bn2): BatchNorm2d(512, eps=1e-05, momentum=0.1, affine=True, track_running_stats=True)\n",
       "        (downsample): Sequential(\n",
       "          (0): Conv2d(256, 512, kernel_size=(1, 1), stride=(2, 2), bias=False)\n",
       "          (1): BatchNorm2d(512, eps=1e-05, momentum=0.1, affine=True, track_running_stats=True)\n",
       "        )\n",
       "      )\n",
       "      (1): BasicBlock(\n",
       "        (conv1): Conv2d(512, 512, kernel_size=(3, 3), stride=(1, 1), padding=(1, 1), bias=False)\n",
       "        (bn1): BatchNorm2d(512, eps=1e-05, momentum=0.1, affine=True, track_running_stats=True)\n",
       "        (relu): ReLU(inplace=True)\n",
       "        (conv2): Conv2d(512, 512, kernel_size=(3, 3), stride=(1, 1), padding=(1, 1), bias=False)\n",
       "        (bn2): BatchNorm2d(512, eps=1e-05, momentum=0.1, affine=True, track_running_stats=True)\n",
       "      )\n",
       "    )\n",
       "    (avgpool): AdaptiveAvgPool2d(output_size=(1, 1))\n",
       "    (fc): Linear(in_features=512, out_features=64, bias=True)\n",
       "  )\n",
       "  (fc_1): Linear(in_features=64, out_features=8, bias=True)\n",
       "  (fc_2): Linear(in_features=8, out_features=2, bias=True)\n",
       ")"
      ]
     },
     "execution_count": 22,
     "metadata": {},
     "output_type": "execute_result"
    }
   ],
   "source": [
    "centroid_net.load_state_dict(torch.load('model/epoch_30_centroid_net_set_2_04_26_21'))\n",
    "centroid_net.to(device)"
   ]
  },
  {
   "cell_type": "markdown",
   "metadata": {},
   "source": [
    "Plotting using the same data points"
   ]
  },
  {
   "cell_type": "code",
   "execution_count": 23,
   "metadata": {},
   "outputs": [
    {
     "data": {
      "image/png": "[encoded data removed]",
      "text/plain": [
       "<Figure size 432x288 with 1 Axes>"
      ]
     },
     "metadata": {
      "needs_background": "light"
     },
     "output_type": "display_data"
    }
   ],
   "source": [
    "from data_util import sample_from_modified_cifar10_dataset,make_2d_pred\n",
    "# Project them onto 2d and see where they land\n",
    "test_2d_preds_set_2 = make_2d_pred(centroid_net,test_samples,device=device)\n",
    "# visualize\n",
    "paint_centroids(points=test_2d_preds_set_2,\n",
    "                centroids=centroids_set_2,\n",
    "                radii=radii_set_2,\n",
    "                point_colors=None,\n",
    "                centroid_colors=centroids_colors)"
   ]
  },
  {
   "cell_type": "markdown",
   "metadata": {},
   "source": [
    "Evaluate the accuracy of the model (Takes about 1-2 minutes to evaluate)"
   ]
  },
  {
   "cell_type": "code",
   "execution_count": 24,
   "metadata": {},
   "outputs": [
    {
     "name": "stderr",
     "output_type": "stream",
     "text": [
      "C:\\Users\\hoyin\\AppData\\Local\\Programs\\Python\\Python37\\lib\\site-packages\\sklearn\\metrics\\_classification.py:1245: UndefinedMetricWarning: Precision is ill-defined and being set to 0.0 in samples with no predicted labels. Use `zero_division` parameter to control this behavior.\n",
      "  _warn_prf(average, modifier, msg_start, len(result))\n"
     ]
    }
   ],
   "source": [
    "from train_util import eval_model\n",
    "test_loss_set_2,test_acc_set_2,test_f1_set_2,test_prc_set_2,test_rec_set_2 = eval_model(model=centroid_net,\n",
    "                                dataloader=dataloaders_dict['val'],\n",
    "                                loss_func=\"centroid\",\n",
    "                                centroids=centroids_set_2,\n",
    "                                radii=radii_set_2,\n",
    "                                device=device,\n",
    "                                report_all=True\n",
    "                               )"
   ]
  },
  {
   "cell_type": "code",
   "execution_count": 25,
   "metadata": {},
   "outputs": [
    {
     "name": "stdout",
     "output_type": "stream",
     "text": [
      "test loss using centroid set 2 after 30 epochs: 12.96944978761673\n",
      "test accuracy using centroid set 2 after 30 epochs: 0.3911\n",
      "test f1 (averaged f1 from each class) using centroid set 2 after 30 epochs: 0.7469\n",
      "test precision (averaged precision from each class) using centroid set 2 after 30 epochs: 0.8971166666666668\n",
      "test recall (averaged recall from each class) using centroid set 2 after 30 epochs: 0.6751333333333333\n"
     ]
    }
   ],
   "source": [
    "print(f\"test loss using centroid set 2 after 30 epochs: {test_loss_set_2}\")\n",
    "print(f\"test accuracy using centroid set 2 after 30 epochs: {test_acc_set_2}\")\n",
    "print(f\"test f1 (averaged f1 from each class) using centroid set 2 after 30 epochs: {test_f1_set_2}\")\n",
    "print(f\"test precision (averaged precision from each class) using centroid set 2 after 30 epochs: {test_prc_set_2}\")\n",
    "print(f\"test recall (averaged recall from each class) using centroid set 2 after 30 epochs: {test_rec_set_2}\")"
   ]
  },
  {
   "cell_type": "code",
   "execution_count": null,
   "metadata": {},
   "outputs": [],
   "source": []
  }
 ],
 "metadata": {
  "kernelspec": {
   "display_name": "Python 3.7.0 64-bit",
   "language": "python",
   "name": "python37064bitdd6a2358527242ea897ba8dd6dc37158"
  },
  "language_info": {
   "codemirror_mode": {
    "name": "ipython",
    "version": 3
   },
   "file_extension": ".py",
   "mimetype": "text/x-python",
   "name": "python",
   "nbconvert_exporter": "python",
   "pygments_lexer": "ipython3",
   "version": "3.7.0"
  }
 },
 "nbformat": 4,
 "nbformat_minor": 4
}
